{
 "cells": [
  {
   "cell_type": "code",
   "execution_count": 66,
   "id": "d52787b6",
   "metadata": {},
   "outputs": [],
   "source": [
    "import numpy as np\n",
    "import pandas as pd\n",
    "import xarray as xr\n",
    "import os \n",
    "from itertools import product\n",
    "import matplotlib.pyplot as plt\n",
    "import glob\n",
    "import datetime"
   ]
  },
  {
   "cell_type": "code",
   "execution_count": 7,
   "id": "b27fc33c",
   "metadata": {},
   "outputs": [
    {
     "data": {
      "text/plain": [
       "'/home/student/Dokumente/moonsoon'"
      ]
     },
     "execution_count": 7,
     "metadata": {},
     "output_type": "execute_result"
    }
   ],
   "source": [
    "os.getcwd()"
   ]
  },
  {
   "cell_type": "code",
   "execution_count": 8,
   "id": "e45088e3",
   "metadata": {},
   "outputs": [],
   "source": [
    "src = os.path.join(os.getcwd(), 'moonsoon_src')"
   ]
  },
  {
   "cell_type": "markdown",
   "id": "21ed73df",
   "metadata": {},
   "source": [
    "SPECS"
   ]
  },
  {
   "cell_type": "code",
   "execution_count": 53,
   "id": "2cbc11e0",
   "metadata": {},
   "outputs": [],
   "source": [
    "colspecs = [(0,6),(6,10),(10,14),(14,20),(20,26),(26,32),(32,38),(38,44),(44,-1)]\n",
    "colnames = ['year','month','day','tas','tas_max','tas_min','pre','v8','v9']"
   ]
  },
  {
   "cell_type": "markdown",
   "id": "ee87e263",
   "metadata": {},
   "source": [
    "#READ FILE\n",
    "year, month, day, tas, tas_max, tas_min, "
   ]
  },
  {
   "cell_type": "code",
   "execution_count": 55,
   "id": "31b0b5f5",
   "metadata": {},
   "outputs": [
    {
     "name": "stdout",
     "output_type": "stream",
     "text": [
      "['/home/student/Dokumente/moonsoon/moonsoon_src/5924_M_5.dly']\n"
     ]
    }
   ],
   "source": [
    "path = os.path.join(src, '*.dly')\n",
    "files = glob.glob(path)\n",
    "print(files[:1])\n",
    "for filepath in files[:1]:\n",
    "    df = pd.read_fwf(filepath, colspecs=colspecs, names= colnames)\n"
   ]
  },
  {
   "cell_type": "code",
   "execution_count": 77,
   "id": "f72db3e0",
   "metadata": {
    "scrolled": true
   },
   "outputs": [
    {
     "data": {
      "text/plain": [
       "1"
      ]
     },
     "execution_count": 77,
     "metadata": {},
     "output_type": "execute_result"
    }
   ],
   "source": [
    "int(datetime.date(2015,1,1).strftime('%j'))"
   ]
  },
  {
   "cell_type": "code",
   "execution_count": 91,
   "id": "f98cdaa5",
   "metadata": {},
   "outputs": [
    {
     "data": {
      "text/html": [
       "<div>\n",
       "<style scoped>\n",
       "    .dataframe tbody tr th:only-of-type {\n",
       "        vertical-align: middle;\n",
       "    }\n",
       "\n",
       "    .dataframe tbody tr th {\n",
       "        vertical-align: top;\n",
       "    }\n",
       "\n",
       "    .dataframe thead th {\n",
       "        text-align: right;\n",
       "    }\n",
       "</style>\n",
       "<table border=\"1\" class=\"dataframe\">\n",
       "  <thead>\n",
       "    <tr style=\"text-align: right;\">\n",
       "      <th></th>\n",
       "      <th>year</th>\n",
       "      <th>month</th>\n",
       "      <th>day</th>\n",
       "      <th>tas</th>\n",
       "      <th>tas_max</th>\n",
       "      <th>tas_min</th>\n",
       "      <th>pre</th>\n",
       "      <th>v8</th>\n",
       "      <th>v9</th>\n",
       "    </tr>\n",
       "  </thead>\n",
       "  <tbody>\n",
       "    <tr>\n",
       "      <th>0</th>\n",
       "      <td>2015</td>\n",
       "      <td>1</td>\n",
       "      <td>1</td>\n",
       "      <td>15.26</td>\n",
       "      <td>31.27</td>\n",
       "      <td>13.40</td>\n",
       "      <td>0.00</td>\n",
       "      <td>0.61</td>\n",
       "      <td>2.04</td>\n",
       "    </tr>\n",
       "    <tr>\n",
       "      <th>1</th>\n",
       "      <td>2015</td>\n",
       "      <td>1</td>\n",
       "      <td>2</td>\n",
       "      <td>14.70</td>\n",
       "      <td>27.56</td>\n",
       "      <td>13.16</td>\n",
       "      <td>0.00</td>\n",
       "      <td>0.67</td>\n",
       "      <td>2.45</td>\n",
       "    </tr>\n",
       "    <tr>\n",
       "      <th>2</th>\n",
       "      <td>2015</td>\n",
       "      <td>1</td>\n",
       "      <td>3</td>\n",
       "      <td>15.25</td>\n",
       "      <td>26.02</td>\n",
       "      <td>9.12</td>\n",
       "      <td>0.00</td>\n",
       "      <td>0.70</td>\n",
       "      <td>1.56</td>\n",
       "    </tr>\n",
       "    <tr>\n",
       "      <th>3</th>\n",
       "      <td>2015</td>\n",
       "      <td>1</td>\n",
       "      <td>4</td>\n",
       "      <td>14.97</td>\n",
       "      <td>23.79</td>\n",
       "      <td>8.89</td>\n",
       "      <td>0.00</td>\n",
       "      <td>0.73</td>\n",
       "      <td>0.91</td>\n",
       "    </tr>\n",
       "    <tr>\n",
       "      <th>4</th>\n",
       "      <td>2015</td>\n",
       "      <td>1</td>\n",
       "      <td>5</td>\n",
       "      <td>14.71</td>\n",
       "      <td>23.15</td>\n",
       "      <td>7.91</td>\n",
       "      <td>0.00</td>\n",
       "      <td>0.72</td>\n",
       "      <td>1.59</td>\n",
       "    </tr>\n",
       "    <tr>\n",
       "      <th>...</th>\n",
       "      <td>...</td>\n",
       "      <td>...</td>\n",
       "      <td>...</td>\n",
       "      <td>...</td>\n",
       "      <td>...</td>\n",
       "      <td>...</td>\n",
       "      <td>...</td>\n",
       "      <td>...</td>\n",
       "      <td>...</td>\n",
       "    </tr>\n",
       "    <tr>\n",
       "      <th>31406</th>\n",
       "      <td>2100</td>\n",
       "      <td>12</td>\n",
       "      <td>27</td>\n",
       "      <td>14.95</td>\n",
       "      <td>33.27</td>\n",
       "      <td>17.53</td>\n",
       "      <td>0.00</td>\n",
       "      <td>0.60</td>\n",
       "      <td>2.19</td>\n",
       "    </tr>\n",
       "    <tr>\n",
       "      <th>31407</th>\n",
       "      <td>2100</td>\n",
       "      <td>12</td>\n",
       "      <td>28</td>\n",
       "      <td>15.04</td>\n",
       "      <td>34.32</td>\n",
       "      <td>17.77</td>\n",
       "      <td>0.00</td>\n",
       "      <td>0.57</td>\n",
       "      <td>2.60</td>\n",
       "    </tr>\n",
       "    <tr>\n",
       "      <th>31408</th>\n",
       "      <td>2100</td>\n",
       "      <td>12</td>\n",
       "      <td>29</td>\n",
       "      <td>14.98</td>\n",
       "      <td>34.36</td>\n",
       "      <td>19.70</td>\n",
       "      <td>0.00</td>\n",
       "      <td>0.57</td>\n",
       "      <td>2.33</td>\n",
       "    </tr>\n",
       "    <tr>\n",
       "      <th>31409</th>\n",
       "      <td>2100</td>\n",
       "      <td>12</td>\n",
       "      <td>30</td>\n",
       "      <td>14.80</td>\n",
       "      <td>34.34</td>\n",
       "      <td>19.82</td>\n",
       "      <td>0.81</td>\n",
       "      <td>0.57</td>\n",
       "      <td>2.06</td>\n",
       "    </tr>\n",
       "    <tr>\n",
       "      <th>31410</th>\n",
       "      <td>2100</td>\n",
       "      <td>12</td>\n",
       "      <td>31</td>\n",
       "      <td>15.43</td>\n",
       "      <td>34.72</td>\n",
       "      <td>19.59</td>\n",
       "      <td>0.00</td>\n",
       "      <td>0.59</td>\n",
       "      <td>1.89</td>\n",
       "    </tr>\n",
       "  </tbody>\n",
       "</table>\n",
       "<p>31411 rows × 9 columns</p>\n",
       "</div>"
      ],
      "text/plain": [
       "       year  month  day    tas  tas_max  tas_min   pre    v8    v9\n",
       "0      2015      1    1  15.26    31.27    13.40  0.00  0.61  2.04\n",
       "1      2015      1    2  14.70    27.56    13.16  0.00  0.67  2.45\n",
       "2      2015      1    3  15.25    26.02     9.12  0.00  0.70  1.56\n",
       "3      2015      1    4  14.97    23.79     8.89  0.00  0.73  0.91\n",
       "4      2015      1    5  14.71    23.15     7.91  0.00  0.72  1.59\n",
       "...     ...    ...  ...    ...      ...      ...   ...   ...   ...\n",
       "31406  2100     12   27  14.95    33.27    17.53  0.00  0.60  2.19\n",
       "31407  2100     12   28  15.04    34.32    17.77  0.00  0.57  2.60\n",
       "31408  2100     12   29  14.98    34.36    19.70  0.00  0.57  2.33\n",
       "31409  2100     12   30  14.80    34.34    19.82  0.81  0.57  2.06\n",
       "31410  2100     12   31  15.43    34.72    19.59  0.00  0.59  1.89\n",
       "\n",
       "[31411 rows x 9 columns]"
      ]
     },
     "execution_count": 91,
     "metadata": {},
     "output_type": "execute_result"
    }
   ],
   "source": [
    "df"
   ]
  },
  {
   "cell_type": "code",
   "execution_count": 109,
   "id": "36e84a69",
   "metadata": {
    "scrolled": true
   },
   "outputs": [],
   "source": [
    "df['date'] = pd.to_datetime(df[['year','month','day']],yearfirst=True, format = \"%j\", exact = True)"
   ]
  },
  {
   "cell_type": "code",
   "execution_count": 111,
   "id": "90903c89",
   "metadata": {},
   "outputs": [],
   "source": [
    "df['dayoftheyear'] = df['date'].dt.strftime('%j')"
   ]
  },
  {
   "cell_type": "code",
   "execution_count": 112,
   "id": "8010cc5b",
   "metadata": {},
   "outputs": [
    {
     "data": {
      "text/html": [
       "<div>\n",
       "<style scoped>\n",
       "    .dataframe tbody tr th:only-of-type {\n",
       "        vertical-align: middle;\n",
       "    }\n",
       "\n",
       "    .dataframe tbody tr th {\n",
       "        vertical-align: top;\n",
       "    }\n",
       "\n",
       "    .dataframe thead th {\n",
       "        text-align: right;\n",
       "    }\n",
       "</style>\n",
       "<table border=\"1\" class=\"dataframe\">\n",
       "  <thead>\n",
       "    <tr style=\"text-align: right;\">\n",
       "      <th></th>\n",
       "      <th>year</th>\n",
       "      <th>month</th>\n",
       "      <th>day</th>\n",
       "      <th>tas</th>\n",
       "      <th>tas_max</th>\n",
       "      <th>tas_min</th>\n",
       "      <th>pre</th>\n",
       "      <th>v8</th>\n",
       "      <th>v9</th>\n",
       "      <th>dayoftheyear</th>\n",
       "      <th>date</th>\n",
       "    </tr>\n",
       "  </thead>\n",
       "  <tbody>\n",
       "    <tr>\n",
       "      <th>0</th>\n",
       "      <td>2015</td>\n",
       "      <td>1</td>\n",
       "      <td>1</td>\n",
       "      <td>15.26</td>\n",
       "      <td>31.27</td>\n",
       "      <td>13.40</td>\n",
       "      <td>0.00</td>\n",
       "      <td>0.61</td>\n",
       "      <td>2.04</td>\n",
       "      <td>001</td>\n",
       "      <td>2015-01-01</td>\n",
       "    </tr>\n",
       "    <tr>\n",
       "      <th>1</th>\n",
       "      <td>2015</td>\n",
       "      <td>1</td>\n",
       "      <td>2</td>\n",
       "      <td>14.70</td>\n",
       "      <td>27.56</td>\n",
       "      <td>13.16</td>\n",
       "      <td>0.00</td>\n",
       "      <td>0.67</td>\n",
       "      <td>2.45</td>\n",
       "      <td>002</td>\n",
       "      <td>2015-01-02</td>\n",
       "    </tr>\n",
       "    <tr>\n",
       "      <th>2</th>\n",
       "      <td>2015</td>\n",
       "      <td>1</td>\n",
       "      <td>3</td>\n",
       "      <td>15.25</td>\n",
       "      <td>26.02</td>\n",
       "      <td>9.12</td>\n",
       "      <td>0.00</td>\n",
       "      <td>0.70</td>\n",
       "      <td>1.56</td>\n",
       "      <td>003</td>\n",
       "      <td>2015-01-03</td>\n",
       "    </tr>\n",
       "    <tr>\n",
       "      <th>3</th>\n",
       "      <td>2015</td>\n",
       "      <td>1</td>\n",
       "      <td>4</td>\n",
       "      <td>14.97</td>\n",
       "      <td>23.79</td>\n",
       "      <td>8.89</td>\n",
       "      <td>0.00</td>\n",
       "      <td>0.73</td>\n",
       "      <td>0.91</td>\n",
       "      <td>004</td>\n",
       "      <td>2015-01-04</td>\n",
       "    </tr>\n",
       "    <tr>\n",
       "      <th>4</th>\n",
       "      <td>2015</td>\n",
       "      <td>1</td>\n",
       "      <td>5</td>\n",
       "      <td>14.71</td>\n",
       "      <td>23.15</td>\n",
       "      <td>7.91</td>\n",
       "      <td>0.00</td>\n",
       "      <td>0.72</td>\n",
       "      <td>1.59</td>\n",
       "      <td>005</td>\n",
       "      <td>2015-01-05</td>\n",
       "    </tr>\n",
       "    <tr>\n",
       "      <th>...</th>\n",
       "      <td>...</td>\n",
       "      <td>...</td>\n",
       "      <td>...</td>\n",
       "      <td>...</td>\n",
       "      <td>...</td>\n",
       "      <td>...</td>\n",
       "      <td>...</td>\n",
       "      <td>...</td>\n",
       "      <td>...</td>\n",
       "      <td>...</td>\n",
       "      <td>...</td>\n",
       "    </tr>\n",
       "    <tr>\n",
       "      <th>31406</th>\n",
       "      <td>2100</td>\n",
       "      <td>12</td>\n",
       "      <td>27</td>\n",
       "      <td>14.95</td>\n",
       "      <td>33.27</td>\n",
       "      <td>17.53</td>\n",
       "      <td>0.00</td>\n",
       "      <td>0.60</td>\n",
       "      <td>2.19</td>\n",
       "      <td>361</td>\n",
       "      <td>2100-12-27</td>\n",
       "    </tr>\n",
       "    <tr>\n",
       "      <th>31407</th>\n",
       "      <td>2100</td>\n",
       "      <td>12</td>\n",
       "      <td>28</td>\n",
       "      <td>15.04</td>\n",
       "      <td>34.32</td>\n",
       "      <td>17.77</td>\n",
       "      <td>0.00</td>\n",
       "      <td>0.57</td>\n",
       "      <td>2.60</td>\n",
       "      <td>362</td>\n",
       "      <td>2100-12-28</td>\n",
       "    </tr>\n",
       "    <tr>\n",
       "      <th>31408</th>\n",
       "      <td>2100</td>\n",
       "      <td>12</td>\n",
       "      <td>29</td>\n",
       "      <td>14.98</td>\n",
       "      <td>34.36</td>\n",
       "      <td>19.70</td>\n",
       "      <td>0.00</td>\n",
       "      <td>0.57</td>\n",
       "      <td>2.33</td>\n",
       "      <td>363</td>\n",
       "      <td>2100-12-29</td>\n",
       "    </tr>\n",
       "    <tr>\n",
       "      <th>31409</th>\n",
       "      <td>2100</td>\n",
       "      <td>12</td>\n",
       "      <td>30</td>\n",
       "      <td>14.80</td>\n",
       "      <td>34.34</td>\n",
       "      <td>19.82</td>\n",
       "      <td>0.81</td>\n",
       "      <td>0.57</td>\n",
       "      <td>2.06</td>\n",
       "      <td>364</td>\n",
       "      <td>2100-12-30</td>\n",
       "    </tr>\n",
       "    <tr>\n",
       "      <th>31410</th>\n",
       "      <td>2100</td>\n",
       "      <td>12</td>\n",
       "      <td>31</td>\n",
       "      <td>15.43</td>\n",
       "      <td>34.72</td>\n",
       "      <td>19.59</td>\n",
       "      <td>0.00</td>\n",
       "      <td>0.59</td>\n",
       "      <td>1.89</td>\n",
       "      <td>365</td>\n",
       "      <td>2100-12-31</td>\n",
       "    </tr>\n",
       "  </tbody>\n",
       "</table>\n",
       "<p>31411 rows × 11 columns</p>\n",
       "</div>"
      ],
      "text/plain": [
       "       year  month  day    tas  tas_max  tas_min   pre    v8    v9  \\\n",
       "0      2015      1    1  15.26    31.27    13.40  0.00  0.61  2.04   \n",
       "1      2015      1    2  14.70    27.56    13.16  0.00  0.67  2.45   \n",
       "2      2015      1    3  15.25    26.02     9.12  0.00  0.70  1.56   \n",
       "3      2015      1    4  14.97    23.79     8.89  0.00  0.73  0.91   \n",
       "4      2015      1    5  14.71    23.15     7.91  0.00  0.72  1.59   \n",
       "...     ...    ...  ...    ...      ...      ...   ...   ...   ...   \n",
       "31406  2100     12   27  14.95    33.27    17.53  0.00  0.60  2.19   \n",
       "31407  2100     12   28  15.04    34.32    17.77  0.00  0.57  2.60   \n",
       "31408  2100     12   29  14.98    34.36    19.70  0.00  0.57  2.33   \n",
       "31409  2100     12   30  14.80    34.34    19.82  0.81  0.57  2.06   \n",
       "31410  2100     12   31  15.43    34.72    19.59  0.00  0.59  1.89   \n",
       "\n",
       "      dayoftheyear       date  \n",
       "0              001 2015-01-01  \n",
       "1              002 2015-01-02  \n",
       "2              003 2015-01-03  \n",
       "3              004 2015-01-04  \n",
       "4              005 2015-01-05  \n",
       "...            ...        ...  \n",
       "31406          361 2100-12-27  \n",
       "31407          362 2100-12-28  \n",
       "31408          363 2100-12-29  \n",
       "31409          364 2100-12-30  \n",
       "31410          365 2100-12-31  \n",
       "\n",
       "[31411 rows x 11 columns]"
      ]
     },
     "execution_count": 112,
     "metadata": {},
     "output_type": "execute_result"
    }
   ],
   "source": [
    "df"
   ]
  },
  {
   "cell_type": "code",
   "execution_count": 141,
   "id": "e4e36223",
   "metadata": {},
   "outputs": [],
   "source": [
    "def moonsoon(df,streak_condition = 8):\n",
    "    final_first_day = False\n",
    "    final_last_day = False\n",
    "    current_first_day = -3\n",
    "    current_day = -5\n",
    "    streak = 0\n",
    "    count = 0\n",
    "    for index, row in df.iterrows():\n",
    "        current_day = row.dayoftheyear\n",
    "        #if there is no rain in the current day: set everything as default\n",
    "        if row.pre == 0:\n",
    "            current_first_day = -3\n",
    "            streak = 0\n",
    "        #if the day rains and there is no rain the day before (streak = 0)\n",
    "        #:save the current first day as current day and steak +1\n",
    "        elif row.pre != 0  and streak == 0:\n",
    "            current_first_day = current_day\n",
    "            streak += 1\n",
    "        #if there is rain and also yesterday: just set streak +1\n",
    "        elif row.pre !=0 and streak !=0:\n",
    "            streak += 1\n",
    "        #if the current streak = streak_condition and there is no first day yet, take it as final first day.\n",
    "        if streak == streak_condition and final_first_day is False:\n",
    "            final_first_day = current_first_day\n",
    "        #if the current streak = streak_condition, save it to the  final_last_day.\n",
    "        if streak >= streak_condition:\n",
    "            final_last_day = current_day\n",
    "    return (final_first_day, final_last_day)"
   ]
  },
  {
   "cell_type": "code",
   "execution_count": 142,
   "id": "3cb63861",
   "metadata": {},
   "outputs": [],
   "source": [
    "moonsoon_value = []\n",
    "for year in df['year'].unique() :\n",
    "    fday, lday = moonsoon(df[df.year == year])\n",
    "    moonsoon_value.append([year, fday, lday])\n"
   ]
  },
  {
   "cell_type": "code",
   "execution_count": 143,
   "id": "370288fa",
   "metadata": {
    "scrolled": true
   },
   "outputs": [],
   "source": [
    "moonsoon_df = pd.DataFrame(data= moonsoon_value, columns = ['year','firstday','lastday'])\n"
   ]
  },
  {
   "cell_type": "code",
   "execution_count": 144,
   "id": "3435c116",
   "metadata": {},
   "outputs": [],
   "source": [
    "moonsoon_df.to_csv('/home/student/Dokumente/moonsoon/moonsoon_src/test.txt', index=False)"
   ]
  },
  {
   "cell_type": "code",
   "execution_count": 153,
   "id": "3c882f88",
   "metadata": {},
   "outputs": [
    {
     "data": {
      "text/plain": [
       "'8'"
      ]
     },
     "execution_count": 153,
     "metadata": {},
     "output_type": "execute_result"
    }
   ],
   "source": [
    "'%s' % streak_condition"
   ]
  },
  {
   "cell_type": "code",
   "execution_count": 160,
   "id": "4419a635",
   "metadata": {},
   "outputs": [],
   "source": [
    "for streak_condition in [6,7,9,10,11]:\n",
    "    for filepath in files:\n",
    "        #formulate the paths\n",
    "        directory, filename = os.path.split(filepath)\n",
    "        new_filename = filename[:-3] + 'txt'\n",
    "        output_dir = os.path.join(directory,'moonsoon with streak of %s'%streak_condition)\n",
    "        output_path = os.path.join(output_dir,new_filename)\n",
    "        #create dir if new\n",
    "        if not os.path.exists(output_dir):\n",
    "            os.makedirs(output_dir)\n",
    "        #read file and add column day of the year\n",
    "        df = pd.read_fwf(filepath, colspecs=colspecs, names= colnames)\n",
    "        df['date'] = pd.to_datetime(df[['year','month','day']],yearfirst=True, format = \"%j\", exact = True)\n",
    "        df['dayoftheyear'] = df['date'].dt.strftime('%j')\n",
    "        #processing data\n",
    "        moonsoon_value = []\n",
    "        for year in df['year'].unique() :\n",
    "            fday, lday = moonsoon(df[df.year == year], streak_condition = streak_condition)\n",
    "            moonsoon_value.append([year, fday, lday])\n",
    "        #save as df and to csv\n",
    "        moonsoon_df = pd.DataFrame(data= moonsoon_value, columns = ['year','firstday','lastday'])\n",
    "        moonsoon_df.to_csv(output_path, index=False)\n",
    "    "
   ]
  },
  {
   "cell_type": "code",
   "execution_count": 146,
   "id": "f5c589bd",
   "metadata": {},
   "outputs": [
    {
     "data": {
      "text/plain": [
       "'/home/student/Dokumente/moonsoon/moonsoon_src/5924_M_5..txt'"
      ]
     },
     "execution_count": 146,
     "metadata": {},
     "output_type": "execute_result"
    }
   ],
   "source": [
    "output_path"
   ]
  },
  {
   "cell_type": "code",
   "execution_count": null,
   "id": "e05c9863",
   "metadata": {},
   "outputs": [],
   "source": []
  }
 ],
 "metadata": {
  "kernelspec": {
   "display_name": "Python 3 (ipykernel)",
   "language": "python",
   "name": "python3"
  },
  "language_info": {
   "codemirror_mode": {
    "name": "ipython",
    "version": 3
   },
   "file_extension": ".py",
   "mimetype": "text/x-python",
   "name": "python",
   "nbconvert_exporter": "python",
   "pygments_lexer": "ipython3",
   "version": "3.9.12"
  }
 },
 "nbformat": 4,
 "nbformat_minor": 5
}
